{
 "cells": [
  {
   "cell_type": "code",
   "execution_count": 12,
   "id": "18026124",
   "metadata": {},
   "outputs": [
    {
     "name": "stdout",
     "output_type": "stream",
     "text": [
      "Введите слово: test\n",
      "es\n"
     ]
    }
   ],
   "source": [
    "#1 задание\n",
    "word = input('Введите слово: ')\n",
    "len_word = len(word)\n",
    "if len_word % 2 == 1:\n",
    "    print(word[len_word // 2])\n",
    "else:\n",
    "    print(word[len_word // 2 - 1] + word[len_word // 2])"
   ]
  },
  {
   "cell_type": "code",
   "execution_count": 21,
   "id": "7297a58c",
   "metadata": {},
   "outputs": [
    {
     "name": "stdout",
     "output_type": "stream",
     "text": [
      "Идеальные пары:\n",
      "Alex и Emma\n",
      "Arthur и Kate\n",
      "John и Kira\n",
      "Peter и Liza\n",
      "Richard и Trisha\n"
     ]
    }
   ],
   "source": [
    "#2 задание\n",
    "boys = ['Peter', 'Alex', 'John', 'Arthur', 'Richard'] \n",
    "girls = ['Kate', 'Liza', 'Kira', 'Emma', 'Trisha']\n",
    "\n",
    "if len(boys) == len(girls):\n",
    "    dating = list(zip(sorted(boys), sorted(girls)))\n",
    "    print('Идеальные пары:')\n",
    "    for i in range(len(boys)):\n",
    "        print(f'{dating[i][0]} и {dating[i][1]}')\n",
    "else:\n",
    "    print('Внимание, кто-то может остаться без пары!')"
   ]
  }
 ],
 "metadata": {
  "kernelspec": {
   "display_name": "Python 3 (ipykernel)",
   "language": "python",
   "name": "python3"
  },
  "language_info": {
   "codemirror_mode": {
    "name": "ipython",
    "version": 3
   },
   "file_extension": ".py",
   "mimetype": "text/x-python",
   "name": "python",
   "nbconvert_exporter": "python",
   "pygments_lexer": "ipython3",
   "version": "3.9.12"
  }
 },
 "nbformat": 4,
 "nbformat_minor": 5
}
