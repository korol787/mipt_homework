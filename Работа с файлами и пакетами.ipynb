{
 "cells": [
  {
   "cell_type": "code",
   "execution_count": 33,
   "id": "c707f587",
   "metadata": {},
   "outputs": [],
   "source": [
    "#Задание 1"
   ]
  },
  {
   "cell_type": "code",
   "execution_count": 12,
   "id": "ceef6bcf",
   "metadata": {},
   "outputs": [],
   "source": [
    "import json"
   ]
  },
  {
   "cell_type": "code",
   "execution_count": 31,
   "id": "db9923bc",
   "metadata": {},
   "outputs": [],
   "source": [
    "users_categories = {}\n",
    "with open('purchase_log.txt') as f:\n",
    "    for line in f:\n",
    "        disct_str = json.loads(line)\n",
    "        if disct_str['user_id'] != 'user_id' and disct_str['category'] != 'category':\n",
    "            users_categories[disct_str['user_id']] = disct_str['category']"
   ]
  },
  {
   "cell_type": "code",
   "execution_count": 49,
   "id": "53e36dc2",
   "metadata": {},
   "outputs": [
    {
     "data": {
      "text/plain": [
       "{'1840e0b9d4': 'Продукты', '4e4f90fcfb': 'Электроника'}"
      ]
     },
     "execution_count": 49,
     "metadata": {},
     "output_type": "execute_result"
    }
   ],
   "source": [
    "{key: users_categories[key] for key in list(users_categories.keys())[:2]}"
   ]
  },
  {
   "cell_type": "code",
   "execution_count": 34,
   "id": "2050583c",
   "metadata": {},
   "outputs": [],
   "source": [
    "#Задание 2"
   ]
  },
  {
   "cell_type": "code",
   "execution_count": 140,
   "id": "e5142cb3",
   "metadata": {},
   "outputs": [],
   "source": [
    "with open('visit_log.csv') as f:\n",
    "    with open('funnel.csv', 'w') as f1:\n",
    "        f1.write('user_id,source,category\\n')\n",
    "        for line in f:\n",
    "            a1 = line.strip()\n",
    "            try:\n",
    "                a2 = a1 + ',' + users_categories[a1.split(',')[0]] + '\\n'\n",
    "            except:\n",
    "                a2 = ''\n",
    "            f1.write(a2)"
   ]
  },
  {
   "cell_type": "code",
   "execution_count": 144,
   "id": "40905cc8",
   "metadata": {},
   "outputs": [
    {
     "name": "stdout",
     "output_type": "stream",
     "text": [
      "user_id,source,category\n",
      "1840e0b9d4,other,Продукты\n",
      "4e4f90fcfb,context,Электроника\n"
     ]
    }
   ],
   "source": [
    "with open('funnel.csv') as f:\n",
    "    for i in range(3):\n",
    "        print(f.readline().strip())"
   ]
  },
  {
   "cell_type": "code",
   "execution_count": null,
   "id": "97e4657a",
   "metadata": {},
   "outputs": [],
   "source": []
  }
 ],
 "metadata": {
  "kernelspec": {
   "display_name": "Python 3 (ipykernel)",
   "language": "python",
   "name": "python3"
  },
  "language_info": {
   "codemirror_mode": {
    "name": "ipython",
    "version": 3
   },
   "file_extension": ".py",
   "mimetype": "text/x-python",
   "name": "python",
   "nbconvert_exporter": "python",
   "pygments_lexer": "ipython3",
   "version": "3.9.12"
  }
 },
 "nbformat": 4,
 "nbformat_minor": 5
}
