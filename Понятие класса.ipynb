{
 "cells": [
  {
   "cell_type": "code",
   "execution_count": 94,
   "id": "323f9e27",
   "metadata": {},
   "outputs": [],
   "source": [
    "class Rate():\n",
    "    def __init__(self, diff):\n",
    "        import requests\n",
    "        self.data = requests.get('https://www.cbr-xml-daily.ru/daily_json.js').json()['Valute']\n",
    "        self.diff = diff\n",
    "        \n",
    "    #задание 1\n",
    "    def name_rate(self):\n",
    "        value_name_dict = dict([(nominal['Value'], nominal['Name']) for nominal in self.data.values()])\n",
    "        print(value_name_dict[max(list(value_name_dict.keys()))])\n",
    "        \n",
    "    #задание 2\n",
    "    def usd(self):\n",
    "        if self.diff:\n",
    "            print(self.data['USD']['Value'] - self.data['USD']['Previous'])\n",
    "        else:\n",
    "            print(self.data['USD']['Value'])"
   ]
  },
  {
   "cell_type": "code",
   "execution_count": 95,
   "id": "796b57f9",
   "metadata": {},
   "outputs": [
    {
     "name": "stdout",
     "output_type": "stream",
     "text": [
      "СДР (специальные права заимствования)\n"
     ]
    }
   ],
   "source": [
    "r = Rate(diff=True)\n",
    "r.name_rate()"
   ]
  },
  {
   "cell_type": "code",
   "execution_count": 96,
   "id": "265c944c",
   "metadata": {},
   "outputs": [
    {
     "name": "stdout",
     "output_type": "stream",
     "text": [
      "-0.1379000000000019\n"
     ]
    }
   ],
   "source": [
    "r = Rate(diff=True)\n",
    "r.usd()"
   ]
  },
  {
   "cell_type": "code",
   "execution_count": 97,
   "id": "7ea25c42",
   "metadata": {},
   "outputs": [
    {
     "name": "stdout",
     "output_type": "stream",
     "text": [
      "93.0351\n"
     ]
    }
   ],
   "source": [
    "r = Rate(diff=False)\n",
    "r.usd()"
   ]
  },
  {
   "cell_type": "code",
   "execution_count": null,
   "id": "f66e1825",
   "metadata": {},
   "outputs": [],
   "source": []
  }
 ],
 "metadata": {
  "kernelspec": {
   "display_name": "Python 3 (ipykernel)",
   "language": "python",
   "name": "python3"
  },
  "language_info": {
   "codemirror_mode": {
    "name": "ipython",
    "version": 3
   },
   "file_extension": ".py",
   "mimetype": "text/x-python",
   "name": "python",
   "nbconvert_exporter": "python",
   "pygments_lexer": "ipython3",
   "version": "3.9.12"
  }
 },
 "nbformat": 4,
 "nbformat_minor": 5
}
