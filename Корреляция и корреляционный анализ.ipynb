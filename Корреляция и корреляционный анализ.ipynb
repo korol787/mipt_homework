{
 "cells": [
  {
   "cell_type": "code",
   "execution_count": 81,
   "id": "8e749c8a",
   "metadata": {},
   "outputs": [],
   "source": [
    "import pandas as pd\n",
    "from scipy.stats import spearmanr\n",
    "from sklearn.linear_model import LinearRegression\n",
    "from matplotlib import pyplot as plt"
   ]
  },
  {
   "cell_type": "code",
   "execution_count": 7,
   "id": "21abe35f",
   "metadata": {},
   "outputs": [],
   "source": [
    "df = pd.read_csv('/Users/korol787/Desktop/Магистратура/Продвинутый Python/water.csv', index_col=0)"
   ]
  },
  {
   "cell_type": "code",
   "execution_count": 8,
   "id": "1985bebe",
   "metadata": {},
   "outputs": [
    {
     "data": {
      "text/html": [
       "<div>\n",
       "<style scoped>\n",
       "    .dataframe tbody tr th:only-of-type {\n",
       "        vertical-align: middle;\n",
       "    }\n",
       "\n",
       "    .dataframe tbody tr th {\n",
       "        vertical-align: top;\n",
       "    }\n",
       "\n",
       "    .dataframe thead th {\n",
       "        text-align: right;\n",
       "    }\n",
       "</style>\n",
       "<table border=\"1\" class=\"dataframe\">\n",
       "  <thead>\n",
       "    <tr style=\"text-align: right;\">\n",
       "      <th></th>\n",
       "      <th>location</th>\n",
       "      <th>town</th>\n",
       "      <th>mortality</th>\n",
       "      <th>hardness</th>\n",
       "    </tr>\n",
       "  </thead>\n",
       "  <tbody>\n",
       "    <tr>\n",
       "      <th>1</th>\n",
       "      <td>South</td>\n",
       "      <td>Bath</td>\n",
       "      <td>1247</td>\n",
       "      <td>105</td>\n",
       "    </tr>\n",
       "    <tr>\n",
       "      <th>2</th>\n",
       "      <td>North</td>\n",
       "      <td>Birkenhead</td>\n",
       "      <td>1668</td>\n",
       "      <td>17</td>\n",
       "    </tr>\n",
       "    <tr>\n",
       "      <th>3</th>\n",
       "      <td>South</td>\n",
       "      <td>Birmingham</td>\n",
       "      <td>1466</td>\n",
       "      <td>5</td>\n",
       "    </tr>\n",
       "    <tr>\n",
       "      <th>4</th>\n",
       "      <td>North</td>\n",
       "      <td>Blackburn</td>\n",
       "      <td>1800</td>\n",
       "      <td>14</td>\n",
       "    </tr>\n",
       "    <tr>\n",
       "      <th>5</th>\n",
       "      <td>North</td>\n",
       "      <td>Blackpool</td>\n",
       "      <td>1609</td>\n",
       "      <td>18</td>\n",
       "    </tr>\n",
       "  </tbody>\n",
       "</table>\n",
       "</div>"
      ],
      "text/plain": [
       "  location        town  mortality  hardness\n",
       "1    South        Bath       1247       105\n",
       "2    North  Birkenhead       1668        17\n",
       "3    South  Birmingham       1466         5\n",
       "4    North   Blackburn       1800        14\n",
       "5    North   Blackpool       1609        18"
      ]
     },
     "execution_count": 8,
     "metadata": {},
     "output_type": "execute_result"
    }
   ],
   "source": [
    "df.head()"
   ]
  },
  {
   "cell_type": "code",
   "execution_count": 96,
   "id": "2daf95f8",
   "metadata": {},
   "outputs": [
    {
     "name": "stdout",
     "output_type": "stream",
     "text": [
      "\n",
      "Точечный график\n"
     ]
    },
    {
     "data": {
      "image/png": "[encoded data removed]",
      "text/plain": [
       "<Figure size 432x288 with 1 Axes>"
      ]
     },
     "metadata": {
      "needs_background": "light"
     },
     "output_type": "display_data"
    },
    {
     "name": "stdout",
     "output_type": "stream",
     "text": [
      "Коэффициент корреляции Спирмена: -0.6316646189166502\n",
      "Коэффициент корреляции Пирсона: -0.6548486232042464\n",
      "Коэффициент детерминации: 0.4288267193124973\n",
      "\n",
      "Точечный график остатков\n"
     ]
    },
    {
     "data": {
      "image/png": "[encoded data removed]",
      "text/plain": [
       "<Figure size 432x288 with 1 Axes>"
      ]
     },
     "metadata": {
      "needs_background": "light"
     },
     "output_type": "display_data"
    }
   ],
   "source": [
    "print()\n",
    "print(\"Точечный график\")\n",
    "df.plot.scatter(x = 'mortality', y = 'hardness')\n",
    "plt.show()\n",
    "\n",
    "print(f\"Коэффициент корреляции Спирмена: {spearmanr(df[['mortality', 'hardness']])[0]}\")\n",
    "print(f\"Коэффициент корреляции Пирсона: {df['mortality'].corr(df['hardness'])}\")\n",
    "\n",
    "model = LinearRegression()\n",
    "model.fit(df['mortality'].values.reshape(-1, 1), df['hardness'].values.reshape(-1, 1))\n",
    "print(f\"Коэффициент детерминации: {model.score(df['mortality'].values.reshape(-1, 1), df['hardness'].values.reshape(-1, 1))}\")\n",
    "\n",
    "print()\n",
    "print(\"Точечный график остатков\")\n",
    "x = df['mortality'].values\n",
    "y = df['hardness'].values.reshape(-1, 1) - model.predict(df['mortality'].values.reshape(-1, 1))\n",
    "plt.scatter(x=x, y=y)\n",
    "plt.show()"
   ]
  },
  {
   "cell_type": "markdown",
   "id": "21896f9f",
   "metadata": {},
   "source": [
    "Корреляционный анализ дает слабовыраженную обратную зависимость, а регрессионный говорит нам о том, что её нет (коэффициент детерминации низкий)"
   ]
  },
  {
   "cell_type": "code",
   "execution_count": 37,
   "id": "509a0af0",
   "metadata": {},
   "outputs": [],
   "source": [
    "df_south = df[df['location'] == 'South']\n",
    "df_not_south = df[df['location'] != 'South']"
   ]
  },
  {
   "cell_type": "code",
   "execution_count": 94,
   "id": "fa27be03",
   "metadata": {},
   "outputs": [
    {
     "name": "stdout",
     "output_type": "stream",
     "text": [
      "\n",
      "Точечный график\n"
     ]
    },
    {
     "data": {
      "image/png": "[encoded data removed]",
      "text/plain": [
       "<Figure size 432x288 with 1 Axes>"
      ]
     },
     "metadata": {
      "needs_background": "light"
     },
     "output_type": "display_data"
    },
    {
     "name": "stdout",
     "output_type": "stream",
     "text": [
      "Коэффициент корреляции Спирмена: -0.5957229185013566\n",
      "Коэффициент корреляции Пирсона: -0.6021532715484157\n",
      "Коэффициент детерминации: 0.3625885624364601\n",
      "\n",
      "Точечный график остатков\n"
     ]
    },
    {
     "data": {
      "image/png": "[encoded data removed]",
      "text/plain": [
       "<Figure size 432x288 with 1 Axes>"
      ]
     },
     "metadata": {
      "needs_background": "light"
     },
     "output_type": "display_data"
    }
   ],
   "source": [
    "print()\n",
    "print(\"Точечный график\")\n",
    "df_south.plot.scatter(x = 'mortality', y = 'hardness')\n",
    "plt.show()\n",
    "\n",
    "print(f\"Коэффициент корреляции Спирмена: {spearmanr(df_south[['mortality', 'hardness']])[0]}\")\n",
    "print(f\"Коэффициент корреляции Пирсона: {df_south['mortality'].corr(df_south['hardness'])}\")\n",
    "\n",
    "model = LinearRegression()\n",
    "model.fit(df_south['mortality'].values.reshape(-1, 1), df_south['hardness'].values.reshape(-1, 1))\n",
    "print(f\"Коэффициент детерминации: {model.score(df_south['mortality'].values.reshape(-1, 1), df_south['hardness'].values.reshape(-1, 1))}\")\n",
    "\n",
    "print()\n",
    "print(\"Точечный график остатков\")\n",
    "x = df_south['mortality'].values\n",
    "y = df_south['hardness'].values.reshape(-1, 1) - model.predict(df_south['mortality'].values.reshape(-1, 1))\n",
    "plt.scatter(x=x, y=y)\n",
    "plt.show()"
   ]
  },
  {
   "cell_type": "markdown",
   "id": "53000ebe",
   "metadata": {},
   "source": [
    "Корреляционный анализ говорит нам о том, что зависимости нет, а регрессионный анализ нам это подтверждает"
   ]
  },
  {
   "cell_type": "code",
   "execution_count": 95,
   "id": "619f03a2",
   "metadata": {},
   "outputs": [
    {
     "name": "stdout",
     "output_type": "stream",
     "text": [
      "\n",
      "Точечный график\n"
     ]
    },
    {
     "data": {
      "image/png": "[encoded data removed]",
      "text/plain": [
       "<Figure size 432x288 with 1 Axes>"
      ]
     },
     "metadata": {
      "needs_background": "light"
     },
     "output_type": "display_data"
    },
    {
     "name": "stdout",
     "output_type": "stream",
     "text": [
      "Коэффициент корреляции Спирмена: -0.4042078956511175\n",
      "Коэффициент корреляции Пирсона: -0.36859783832887183\n",
      "Коэффициент детерминации: 0.1358643664207171\n",
      "\n",
      "Точечный график остатков\n"
     ]
    },
    {
     "data": {
      "image/png": "[encoded data removed]",
      "text/plain": [
       "<Figure size 432x288 with 1 Axes>"
      ]
     },
     "metadata": {
      "needs_background": "light"
     },
     "output_type": "display_data"
    }
   ],
   "source": [
    "print()\n",
    "print(\"Точечный график\")\n",
    "df_not_south.plot.scatter(x = 'mortality', y = 'hardness')\n",
    "plt.show()\n",
    "\n",
    "print(f\"Коэффициент корреляции Спирмена: {spearmanr(df_not_south[['mortality', 'hardness']])[0]}\")\n",
    "print(f\"Коэффициент корреляции Пирсона: {df_not_south['mortality'].corr(df_not_south['hardness'])}\")\n",
    "\n",
    "model = LinearRegression()\n",
    "model.fit(df_not_south['mortality'].values.reshape(-1, 1), df_not_south['hardness'].values.reshape(-1, 1))\n",
    "print(f\"Коэффициент детерминации: {model.score(df_not_south['mortality'].values.reshape(-1, 1), df_not_south['hardness'].values.reshape(-1, 1))}\")\n",
    "\n",
    "print()\n",
    "print(\"Точечный график остатков\")\n",
    "x = df_not_south['mortality'].values\n",
    "y = df_not_south['hardness'].values.reshape(-1, 1) - model.predict(df_not_south['mortality'].values.reshape(-1, 1))\n",
    "plt.scatter(x=x, y=y)\n",
    "plt.show()"
   ]
  },
  {
   "cell_type": "markdown",
   "id": "719c57e2",
   "metadata": {},
   "source": [
    "Корреляционный анализ говорит нам о том, что зависимости нет, а регрессионный анализ нам это подтверждает"
   ]
  },
  {
   "cell_type": "code",
   "execution_count": null,
   "id": "a24982e7",
   "metadata": {},
   "outputs": [],
   "source": []
  }
 ],
 "metadata": {
  "kernelspec": {
   "display_name": "Python 3 (ipykernel)",
   "language": "python",
   "name": "python3"
  },
  "language_info": {
   "codemirror_mode": {
    "name": "ipython",
    "version": 3
   },
   "file_extension": ".py",
   "mimetype": "text/x-python",
   "name": "python",
   "nbconvert_exporter": "python",
   "pygments_lexer": "ipython3",
   "version": "3.9.12"
  }
 },
 "nbformat": 4,
 "nbformat_minor": 5
}
