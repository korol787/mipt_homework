{
 "cells": [
  {
   "cell_type": "code",
   "execution_count": 27,
   "id": "f621d986",
   "metadata": {},
   "outputs": [],
   "source": [
    "from datetime import datetime as dt\n",
    "from datetime import timedelta"
   ]
  },
  {
   "cell_type": "code",
   "execution_count": 16,
   "id": "b264fe8b",
   "metadata": {},
   "outputs": [],
   "source": [
    "#занятие 1"
   ]
  },
  {
   "cell_type": "code",
   "execution_count": 12,
   "id": "43e5c4d4",
   "metadata": {},
   "outputs": [
    {
     "data": {
      "text/plain": [
       "datetime.datetime(2002, 10, 2, 0, 0)"
      ]
     },
     "execution_count": 12,
     "metadata": {},
     "output_type": "execute_result"
    }
   ],
   "source": [
    "dt.strptime('Wednesday, October 2, 2002', '%A, %B %d, %Y')"
   ]
  },
  {
   "cell_type": "code",
   "execution_count": 14,
   "id": "7c59a496",
   "metadata": {},
   "outputs": [
    {
     "data": {
      "text/plain": [
       "datetime.datetime(2013, 10, 11, 0, 0)"
      ]
     },
     "execution_count": 14,
     "metadata": {},
     "output_type": "execute_result"
    }
   ],
   "source": [
    "dt.strptime('Friday, 11.10.13', '%A, %d.%m.%y')"
   ]
  },
  {
   "cell_type": "code",
   "execution_count": 15,
   "id": "ad679aee",
   "metadata": {},
   "outputs": [
    {
     "data": {
      "text/plain": [
       "datetime.datetime(1977, 8, 18, 0, 0)"
      ]
     },
     "execution_count": 15,
     "metadata": {},
     "output_type": "execute_result"
    }
   ],
   "source": [
    "dt.strptime('Thursday, 18 August 1977', '%A, %d %B %Y')"
   ]
  },
  {
   "cell_type": "code",
   "execution_count": 17,
   "id": "3d743708",
   "metadata": {},
   "outputs": [],
   "source": [
    "#занятие 2"
   ]
  },
  {
   "cell_type": "code",
   "execution_count": 66,
   "id": "1586c762",
   "metadata": {},
   "outputs": [],
   "source": [
    "def date_range(start_date1, end_date1):\n",
    "    try:\n",
    "        start_date = dt.strptime(start_date1, '%Y-%m-%d')\n",
    "        end_date = dt.strptime(end_date1, '%Y-%m-%d')\n",
    "        range_date = []\n",
    "        if start_date <= end_date:\n",
    "            while start_date <= end_date:\n",
    "                range_date.append(start_date.strftime('%Y-%m-%d'))\n",
    "                start_date += timedelta(days=1)\n",
    "    except:\n",
    "        range_date = []\n",
    "    return range_date"
   ]
  },
  {
   "cell_type": "code",
   "execution_count": 67,
   "id": "ec8ff85a",
   "metadata": {},
   "outputs": [
    {
     "data": {
      "text/plain": [
       "['2022-01-01', '2022-01-02', '2022-01-03']"
      ]
     },
     "execution_count": 67,
     "metadata": {},
     "output_type": "execute_result"
    }
   ],
   "source": [
    "date_range('2022-01-01', '2022-01-03')"
   ]
  },
  {
   "cell_type": "code",
   "execution_count": 68,
   "id": "3033f432",
   "metadata": {},
   "outputs": [
    {
     "data": {
      "text/plain": [
       "[]"
      ]
     },
     "execution_count": 68,
     "metadata": {},
     "output_type": "execute_result"
    }
   ],
   "source": [
    "date_range('2022-01-03', '2022-01-01')"
   ]
  },
  {
   "cell_type": "code",
   "execution_count": 69,
   "id": "15b5fddc",
   "metadata": {},
   "outputs": [
    {
     "data": {
      "text/plain": [
       "[]"
      ]
     },
     "execution_count": 69,
     "metadata": {},
     "output_type": "execute_result"
    }
   ],
   "source": [
    "date_range('2022-02-30', '2022-02-31')"
   ]
  }
 ],
 "metadata": {
  "kernelspec": {
   "display_name": "Python 3 (ipykernel)",
   "language": "python",
   "name": "python3"
  },
  "language_info": {
   "codemirror_mode": {
    "name": "ipython",
    "version": 3
   },
   "file_extension": ".py",
   "mimetype": "text/x-python",
   "name": "python",
   "nbconvert_exporter": "python",
   "pygments_lexer": "ipython3",
   "version": "3.9.12"
  }
 },
 "nbformat": 4,
 "nbformat_minor": 5
}
