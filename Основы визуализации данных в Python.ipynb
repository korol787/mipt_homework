{
 "cells": [
  {
   "cell_type": "code",
   "execution_count": 62,
   "id": "f37deb86",
   "metadata": {},
   "outputs": [],
   "source": [
    "import pandas as pd\n",
    "import matplotlib.pyplot as plt\n",
    "import seaborn as sns"
   ]
  },
  {
   "cell_type": "code",
   "execution_count": 28,
   "id": "9c617551",
   "metadata": {},
   "outputs": [],
   "source": [
    "#данные о пассажирах титаника"
   ]
  },
  {
   "cell_type": "code",
   "execution_count": 6,
   "id": "9c758279",
   "metadata": {},
   "outputs": [],
   "source": [
    "df = pd.read_excel('/Users/korol787/Desktop/Универ/6 семестр/Машинка/Данные/titanic.xlsx')"
   ]
  },
  {
   "cell_type": "code",
   "execution_count": 7,
   "id": "6033bf3b",
   "metadata": {},
   "outputs": [
    {
     "data": {
      "text/html": [
       "<div>\n",
       "<style scoped>\n",
       "    .dataframe tbody tr th:only-of-type {\n",
       "        vertical-align: middle;\n",
       "    }\n",
       "\n",
       "    .dataframe tbody tr th {\n",
       "        vertical-align: top;\n",
       "    }\n",
       "\n",
       "    .dataframe thead th {\n",
       "        text-align: right;\n",
       "    }\n",
       "</style>\n",
       "<table border=\"1\" class=\"dataframe\">\n",
       "  <thead>\n",
       "    <tr style=\"text-align: right;\">\n",
       "      <th></th>\n",
       "      <th>Выжил</th>\n",
       "      <th>Класс_билета</th>\n",
       "      <th>Пол</th>\n",
       "      <th>Родственники</th>\n",
       "      <th>Семья</th>\n",
       "      <th>Плата</th>\n",
       "      <th>Порт</th>\n",
       "      <th>Год_рождения</th>\n",
       "    </tr>\n",
       "  </thead>\n",
       "  <tbody>\n",
       "    <tr>\n",
       "      <th>0</th>\n",
       "      <td>0</td>\n",
       "      <td>3</td>\n",
       "      <td>male</td>\n",
       "      <td>1</td>\n",
       "      <td>0</td>\n",
       "      <td>45839.0000</td>\n",
       "      <td>S</td>\n",
       "      <td>1890.0</td>\n",
       "    </tr>\n",
       "    <tr>\n",
       "      <th>1</th>\n",
       "      <td>1</td>\n",
       "      <td>1</td>\n",
       "      <td>female</td>\n",
       "      <td>1</td>\n",
       "      <td>0</td>\n",
       "      <td>71.2833</td>\n",
       "      <td>C</td>\n",
       "      <td>1874.0</td>\n",
       "    </tr>\n",
       "    <tr>\n",
       "      <th>2</th>\n",
       "      <td>1</td>\n",
       "      <td>3</td>\n",
       "      <td>female</td>\n",
       "      <td>0</td>\n",
       "      <td>0</td>\n",
       "      <td>7.9250</td>\n",
       "      <td>S</td>\n",
       "      <td>1886.0</td>\n",
       "    </tr>\n",
       "    <tr>\n",
       "      <th>3</th>\n",
       "      <td>1</td>\n",
       "      <td>1</td>\n",
       "      <td>female</td>\n",
       "      <td>1</td>\n",
       "      <td>0</td>\n",
       "      <td>53.1000</td>\n",
       "      <td>S</td>\n",
       "      <td>1877.0</td>\n",
       "    </tr>\n",
       "    <tr>\n",
       "      <th>4</th>\n",
       "      <td>0</td>\n",
       "      <td>3</td>\n",
       "      <td>male</td>\n",
       "      <td>0</td>\n",
       "      <td>0</td>\n",
       "      <td>44689.0000</td>\n",
       "      <td>S</td>\n",
       "      <td>1877.0</td>\n",
       "    </tr>\n",
       "  </tbody>\n",
       "</table>\n",
       "</div>"
      ],
      "text/plain": [
       "   Выжил  Класс_билета     Пол  Родственники  Семья       Плата Порт   \n",
       "0      0             3    male             1      0  45839.0000    S  \\\n",
       "1      1             1  female             1      0     71.2833    C   \n",
       "2      1             3  female             0      0      7.9250    S   \n",
       "3      1             1  female             1      0     53.1000    S   \n",
       "4      0             3    male             0      0  44689.0000    S   \n",
       "\n",
       "   Год_рождения  \n",
       "0        1890.0  \n",
       "1        1874.0  \n",
       "2        1886.0  \n",
       "3        1877.0  \n",
       "4        1877.0  "
      ]
     },
     "execution_count": 7,
     "metadata": {},
     "output_type": "execute_result"
    }
   ],
   "source": [
    "df.head()"
   ]
  },
  {
   "cell_type": "code",
   "execution_count": 27,
   "id": "acc9563c",
   "metadata": {},
   "outputs": [
    {
     "data": {
      "text/plain": [
       "<BarContainer object of 2 artists>"
      ]
     },
     "execution_count": 27,
     "metadata": {},
     "output_type": "execute_result"
    },
    {
     "data": {
      "image/png": "[encoded data removed]",
      "text/plain": [
       "<Figure size 432x288 with 1 Axes>"
      ]
     },
     "metadata": {
      "needs_background": "light"
     },
     "output_type": "display_data"
    }
   ],
   "source": [
    "plt.bar(['0', '1'], df['Выжил'].value_counts().values)"
   ]
  },
  {
   "cell_type": "markdown",
   "id": "108f99e2",
   "metadata": {},
   "source": [
    "Тут barchart нам может показать насколько сбалансирована выборка, ведь эта целевая переменная для прогнозирования, но тут классы довольно сбалансированны и с ними можно ничего не делать"
   ]
  },
  {
   "cell_type": "code",
   "execution_count": 33,
   "id": "ddad5301",
   "metadata": {},
   "outputs": [
    {
     "data": {
      "image/png": "[encoded data removed]",
      "text/plain": [
       "<Figure size 432x288 with 1 Axes>"
      ]
     },
     "metadata": {
      "needs_background": "light"
     },
     "output_type": "display_data"
    },
    {
     "data": {
      "image/png": "[encoded data removed]",
      "text/plain": [
       "<Figure size 432x288 with 1 Axes>"
      ]
     },
     "metadata": {
      "needs_background": "light"
     },
     "output_type": "display_data"
    },
    {
     "data": {
      "image/png": "[encoded data removed]",
      "text/plain": [
       "<Figure size 432x288 with 1 Axes>"
      ]
     },
     "metadata": {
      "needs_background": "light"
     },
     "output_type": "display_data"
    }
   ],
   "source": [
    "for cl in sorted(df['Класс_билета'].unique()):\n",
    "    plt.boxplot(df[df['Класс_билета'] == cl]['Плата'])\n",
    "    plt.title(cl)\n",
    "    plt.show()"
   ]
  },
  {
   "cell_type": "code",
   "execution_count": 60,
   "id": "bcc911bc",
   "metadata": {},
   "outputs": [],
   "source": [
    "df2 = df[((df['Класс_билета'] == 1) & (df['Плата'] <= 10000))\\\n",
    "| ((df['Класс_билета'] == 2) & (df['Плата'] <= 10000))\\\n",
    "| ((df['Класс_билета'] == 3) & (df['Плата'] <= 500_000))]"
   ]
  },
  {
   "cell_type": "code",
   "execution_count": 61,
   "id": "7f1656b2",
   "metadata": {},
   "outputs": [
    {
     "data": {
      "image/png": "[encoded data removed]",
      "text/plain": [
       "<Figure size 432x288 with 1 Axes>"
      ]
     },
     "metadata": {
      "needs_background": "light"
     },
     "output_type": "display_data"
    },
    {
     "data": {
      "image/png": "[encoded data removed]",
      "text/plain": [
       "<Figure size 432x288 with 1 Axes>"
      ]
     },
     "metadata": {
      "needs_background": "light"
     },
     "output_type": "display_data"
    },
    {
     "data": {
      "image/png": "[encoded data removed]",
      "text/plain": [
       "<Figure size 432x288 with 1 Axes>"
      ]
     },
     "metadata": {
      "needs_background": "light"
     },
     "output_type": "display_data"
    }
   ],
   "source": [
    "for cl in sorted(df2['Класс_билета'].unique()):\n",
    "    plt.boxplot(df2[df2['Класс_билета'] == cl]['Плата'])\n",
    "    plt.title(cl)\n",
    "    plt.show()"
   ]
  },
  {
   "cell_type": "markdown",
   "id": "fbc7422b",
   "metadata": {},
   "source": [
    "Тут boxplot может нам показать какие есть выбросы и различные распределения в плате за каюту в зависимости от класса билета."
   ]
  },
  {
   "cell_type": "code",
   "execution_count": 87,
   "id": "83e74100",
   "metadata": {},
   "outputs": [
    {
     "data": {
      "image/png": "[encoded data removed]",
      "text/plain": [
       "<Figure size 432x288 with 1 Axes>"
      ]
     },
     "metadata": {},
     "output_type": "display_data"
    }
   ],
   "source": [
    "#define data\n",
    "data = df.pivot_table(index='Порт', values='Выжил', aggfunc='count')['Выжил'].values\n",
    "labels = df.pivot_table(index='Порт', values='Выжил', aggfunc='count').index\n",
    "\n",
    "#define Seaborn color palette to use\n",
    "colors = sns.color_palette('pastel')[ 0:5 ]\n",
    "\n",
    "#create pie chart\n",
    "plt.pie(data, labels = labels, colors = colors, autopct='%.0f%%')\n",
    "plt.show()"
   ]
  },
  {
   "cell_type": "markdown",
   "id": "ba92b277",
   "metadata": {},
   "source": [
    "Круговая диаграмма здесь нам хорошо покажет структуру пассажиров в разрезе портов, где они зашли на корабль"
   ]
  },
  {
   "cell_type": "code",
   "execution_count": null,
   "id": "b6fb43df",
   "metadata": {},
   "outputs": [],
   "source": []
  }
 ],
 "metadata": {
  "kernelspec": {
   "display_name": "Python 3 (ipykernel)",
   "language": "python",
   "name": "python3"
  },
  "language_info": {
   "codemirror_mode": {
    "name": "ipython",
    "version": 3
   },
   "file_extension": ".py",
   "mimetype": "text/x-python",
   "name": "python",
   "nbconvert_exporter": "python",
   "pygments_lexer": "ipython3",
   "version": "3.9.12"
  }
 },
 "nbformat": 4,
 "nbformat_minor": 5
}
