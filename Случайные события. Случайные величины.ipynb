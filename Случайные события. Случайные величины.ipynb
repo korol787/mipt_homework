{
 "cells": [
  {
   "cell_type": "code",
   "execution_count": 43,
   "id": "ec66e8f0",
   "metadata": {},
   "outputs": [],
   "source": [
    "#задание 2"
   ]
  },
  {
   "cell_type": "code",
   "execution_count": 37,
   "id": "aa5b6b89",
   "metadata": {},
   "outputs": [],
   "source": [
    "# Для расчета среднего выигрыша возьмем вероятности выпадения каждой комбинации:\n",
    "\n",
    "P777 = 0.001\n",
    "P999 = 0.001\n",
    "P555 = 0.001\n",
    "P333 = 0.001\n",
    "P111 = 0.001\n",
    "# для комбинации *77 будут все числа, где последние две цифры равны 77, кроме 777: 77, 177, 277, 377, 477, 577, 677, 877, 977\n",
    "P77 = 0.009\n",
    "# для комбинации **7 будут актуальны все числа, где последняя цифра равна 7, кроме 77\n",
    "P7 = 0.09\n",
    "# для комбинации *00 будут актуальны числа 100, 200, 300, ..., 900\n",
    "P00 = 0.009\n",
    "# для комбинации **0 будут актуальны числа 10, 20, ..., 990, кроме *00\n",
    "P0 = 0.09"
   ]
  },
  {
   "cell_type": "code",
   "execution_count": 38,
   "id": "076b86df",
   "metadata": {},
   "outputs": [
    {
     "data": {
      "text/plain": [
       "-0.20199999999999996"
      ]
     },
     "execution_count": 38,
     "metadata": {},
     "output_type": "execute_result"
    }
   ],
   "source": [
    "P777*200 + P999*100 + P555*50 + P333*15 + P111*10 + P77*5 + P7*3 + P00*2 + P0*1 - 1"
   ]
  },
  {
   "cell_type": "code",
   "execution_count": 44,
   "id": "e0a80a64",
   "metadata": {},
   "outputs": [],
   "source": [
    "#задание 1"
   ]
  },
  {
   "cell_type": "code",
   "execution_count": 31,
   "id": "32c83346",
   "metadata": {},
   "outputs": [],
   "source": [
    "import pandas as pd\n",
    "import numpy as np\n",
    "import random\n",
    "import matplotlib.pyplot as plt\n",
    "from tqdm import tqdm"
   ]
  },
  {
   "cell_type": "code",
   "execution_count": 41,
   "id": "6809d350",
   "metadata": {},
   "outputs": [
    {
     "name": "stderr",
     "output_type": "stream",
     "text": [
      "100%|██████████████████████████████████████| 9999/9999 [01:04<00:00, 156.12it/s]\n"
     ]
    }
   ],
   "source": [
    "y1 = []\n",
    "y2 = []\n",
    "x = list(range(1, 10000))\n",
    "for i in tqdm(range(1, 10000)):\n",
    "    c = 0\n",
    "    for j in range(i):\n",
    "        c += -1\n",
    "        num = str(random.randint(0, 999))\n",
    "        if len(num) == 3:\n",
    "            if num == '777':\n",
    "                c += 200\n",
    "            elif num == '999':\n",
    "                c += 100\n",
    "            elif num == '555':\n",
    "                c += 50\n",
    "            elif num == '333':\n",
    "                c += 15\n",
    "            elif num == '111':\n",
    "                c += 10\n",
    "            elif num[1:] == '77':\n",
    "                c += 5\n",
    "            elif num[2] == '7':\n",
    "                c += 3\n",
    "            elif num[1:] == '00':\n",
    "                c += 2\n",
    "            elif num[2] == '0':\n",
    "                c += 1\n",
    "    y1.append(c/i)\n",
    "    y2.append(P777*200 + P999*100 + P555*50 + P333*15 + P111*10 + P77*5 + P7*3 + P00*2 + P0*1 - 1)"
   ]
  },
  {
   "cell_type": "code",
   "execution_count": 42,
   "id": "c6501fd3",
   "metadata": {},
   "outputs": [
    {
     "data": {
      "image/png": "[encoded data removed]",
      "text/plain": [
       "<Figure size 432x288 with 1 Axes>"
      ]
     },
     "metadata": {
      "needs_background": "light"
     },
     "output_type": "display_data"
    }
   ],
   "source": [
    "plt.plot(x, y1)\n",
    "plt.plot(x, y2, color='red')\n",
    "plt.show()"
   ]
  },
  {
   "cell_type": "code",
   "execution_count": null,
   "id": "6ebaa4de",
   "metadata": {},
   "outputs": [],
   "source": []
  }
 ],
 "metadata": {
  "kernelspec": {
   "display_name": "Python 3 (ipykernel)",
   "language": "python",
   "name": "python3"
  },
  "language_info": {
   "codemirror_mode": {
    "name": "ipython",
    "version": 3
   },
   "file_extension": ".py",
   "mimetype": "text/x-python",
   "name": "python",
   "nbconvert_exporter": "python",
   "pygments_lexer": "ipython3",
   "version": "3.9.12"
  }
 },
 "nbformat": 4,
 "nbformat_minor": 5
}
