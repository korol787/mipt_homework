{
 "cells": [
  {
   "cell_type": "code",
   "execution_count": 1,
   "id": "196816be",
   "metadata": {},
   "outputs": [],
   "source": [
    "import re"
   ]
  },
  {
   "cell_type": "code",
   "execution_count": 2,
   "id": "cf9e60ba",
   "metadata": {},
   "outputs": [],
   "source": [
    "#задание 1"
   ]
  },
  {
   "cell_type": "code",
   "execution_count": 3,
   "id": "642bb712",
   "metadata": {},
   "outputs": [],
   "source": [
    "def car_id_validation(car_id):\n",
    "    if re.match('[АВЕКМНОРСТУХ]{1}\\d{3}[АВЕКМНОРСТУХ]{2}\\d{2,3}', car_id) is not None:\n",
    "        number = re.findall('[АВЕКМНОРСТУХ]{1}\\d{3}[АВЕКМНОРСТУХ]{2}', car_id)[0]\n",
    "        region = re.findall('\\d{2,3}', car_id)[1]\n",
    "        print(f'Результат: Номер {number} валиден. Регион: {region}.')\n",
    "    else:\n",
    "        print('Номер не валиден.')"
   ]
  },
  {
   "cell_type": "code",
   "execution_count": 4,
   "id": "e41c1db0",
   "metadata": {},
   "outputs": [
    {
     "name": "stdout",
     "output_type": "stream",
     "text": [
      "Результат: Номер А222ВС валиден. Регион: 96.\n"
     ]
    }
   ],
   "source": [
    "car_id_validation('А222ВС96')"
   ]
  },
  {
   "cell_type": "code",
   "execution_count": 5,
   "id": "3d889657",
   "metadata": {},
   "outputs": [
    {
     "name": "stdout",
     "output_type": "stream",
     "text": [
      "Номер не валиден.\n"
     ]
    }
   ],
   "source": [
    "car_id_validation('АБ22ВВ193')"
   ]
  },
  {
   "cell_type": "code",
   "execution_count": 6,
   "id": "44a4ac56",
   "metadata": {},
   "outputs": [],
   "source": [
    "#задание 2"
   ]
  },
  {
   "cell_type": "code",
   "execution_count": 7,
   "id": "c644e27f",
   "metadata": {},
   "outputs": [],
   "source": [
    "str1 = '''Напишите функцию функцию, которая будет будет будет будет удалять все все все все последовательные \\\n",
    "повторы слов из из из из заданной строки строки при помощи регулярных выражений'''"
   ]
  },
  {
   "cell_type": "code",
   "execution_count": 8,
   "id": "2701fa6d",
   "metadata": {},
   "outputs": [],
   "source": [
    "def uniq_str(str1):\n",
    "    splitted_str = str1.split(' ')\n",
    "    re_str = re.findall('\\w+', str1)\n",
    "    new_str = ''\n",
    "    for i in range(0, len(splitted_str)-1):\n",
    "        if ((re_str[i] == re_str[i-1]) & (re_str[i] != re_str[i+1])) | (re_str[i] != re_str[i-1]) & (re_str[i] != re_str[i+1]):\n",
    "            new_str += splitted_str[i] + ' '\n",
    "    new_str += splitted_str[-1]\n",
    "    return new_str"
   ]
  },
  {
   "cell_type": "code",
   "execution_count": 9,
   "id": "afbf31c0",
   "metadata": {},
   "outputs": [
    {
     "data": {
      "text/plain": [
       "'Напишите функцию, которая будет удалять все последовательные повторы слов из заданной строки при помощи регулярных выражений'"
      ]
     },
     "execution_count": 9,
     "metadata": {},
     "output_type": "execute_result"
    }
   ],
   "source": [
    "uniq_str(str1)"
   ]
  }
 ],
 "metadata": {
  "kernelspec": {
   "display_name": "Python 3 (ipykernel)",
   "language": "python",
   "name": "python3"
  },
  "language_info": {
   "codemirror_mode": {
    "name": "ipython",
    "version": 3
   },
   "file_extension": ".py",
   "mimetype": "text/x-python",
   "name": "python",
   "nbconvert_exporter": "python",
   "pygments_lexer": "ipython3",
   "version": "3.9.12"
  }
 },
 "nbformat": 4,
 "nbformat_minor": 5
}
