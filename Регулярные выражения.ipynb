{
 "cells": [
  {
   "cell_type": "code",
   "execution_count": 99,
   "id": "be882746",
   "metadata": {},
   "outputs": [],
   "source": [
    "import re\n",
    "import numpy as np"
   ]
  },
  {
   "cell_type": "code",
   "execution_count": 85,
   "id": "bf60a546",
   "metadata": {},
   "outputs": [],
   "source": [
    "#задание 1"
   ]
  },
  {
   "cell_type": "code",
   "execution_count": 82,
   "id": "c2feed56",
   "metadata": {},
   "outputs": [],
   "source": [
    "def car_id_validation(car_id):\n",
    "    if re.match('[АВЕКМНОРСТУХ]{1}\\d{3}[АВЕКМНОРСТУХ]{2}\\d{2,3}', car_id) is not None:\n",
    "        number = re.findall('[АВЕКМНОРСТУХ]{1}\\d{3}[АВЕКМНОРСТУХ]{2}', car_id)[0]\n",
    "        region = re.findall('\\d{2,3}', car_id)[1]\n",
    "        print(f'Результат: Номер {number} валиден. Регион: {region}.')\n",
    "    else:\n",
    "        print('Номер не валиден.')"
   ]
  },
  {
   "cell_type": "code",
   "execution_count": 83,
   "id": "62ca7821",
   "metadata": {},
   "outputs": [
    {
     "name": "stdout",
     "output_type": "stream",
     "text": [
      "Результат: Номер А222ВС валиден. Регион: 96.\n"
     ]
    }
   ],
   "source": [
    "car_id_validation('А222ВС96')"
   ]
  },
  {
   "cell_type": "code",
   "execution_count": 84,
   "id": "0d2e3d1a",
   "metadata": {},
   "outputs": [
    {
     "name": "stdout",
     "output_type": "stream",
     "text": [
      "Номер не валиден.\n"
     ]
    }
   ],
   "source": [
    "car_id_validation('АБ22ВВ193')"
   ]
  },
  {
   "cell_type": "code",
   "execution_count": 86,
   "id": "ce41c2f7",
   "metadata": {},
   "outputs": [],
   "source": [
    "#задание 2"
   ]
  },
  {
   "cell_type": "code",
   "execution_count": 91,
   "id": "569d0f1a",
   "metadata": {},
   "outputs": [],
   "source": [
    "str1 = '''Напишите функцию функцию, которая будет будет будет будет удалять все все все все последовательные \\\n",
    "повторы слов из из из из заданной строки строки при помощи регулярных выражений'''"
   ]
  },
  {
   "cell_type": "code",
   "execution_count": 103,
   "id": "5f182732",
   "metadata": {},
   "outputs": [
    {
     "data": {
      "text/plain": [
       "'Напишите будет все выражений заданной из которая повторы помощи последовательные при регулярных слов строки удалять функцию'"
      ]
     },
     "execution_count": 103,
     "metadata": {},
     "output_type": "execute_result"
    }
   ],
   "source": [
    "' '.join(np.unique(re.findall('\\w+', str1)))"
   ]
  },
  {
   "cell_type": "code",
   "execution_count": 105,
   "id": "371d7cc2",
   "metadata": {},
   "outputs": [
    {
     "data": {
      "text/plain": [
       "['Напишите',\n",
       " 'функцию',\n",
       " 'функцию',\n",
       " 'которая',\n",
       " 'будет',\n",
       " 'будет',\n",
       " 'будет',\n",
       " 'будет',\n",
       " 'удалять',\n",
       " 'все',\n",
       " 'все',\n",
       " 'все',\n",
       " 'все',\n",
       " 'последовательные',\n",
       " 'повторы',\n",
       " 'слов',\n",
       " 'из',\n",
       " 'из',\n",
       " 'из',\n",
       " 'из',\n",
       " 'заданной',\n",
       " 'строки',\n",
       " 'строки',\n",
       " 'при',\n",
       " 'помощи',\n",
       " 'регулярных',\n",
       " 'выражений']"
      ]
     },
     "execution_count": 105,
     "metadata": {},
     "output_type": "execute_result"
    }
   ],
   "source": [
    "re.findall('\\w+', str1)"
   ]
  },
  {
   "cell_type": "code",
   "execution_count": 108,
   "id": "22130f23",
   "metadata": {},
   "outputs": [
    {
     "data": {
      "text/plain": [
       "27"
      ]
     },
     "execution_count": 108,
     "metadata": {},
     "output_type": "execute_result"
    }
   ],
   "source": [
    "len(re.findall('\\w+', str1))"
   ]
  },
  {
   "cell_type": "code",
   "execution_count": 106,
   "id": "ddc3e7d9",
   "metadata": {},
   "outputs": [
    {
     "data": {
      "text/plain": [
       "['Напишите',\n",
       " 'функцию',\n",
       " 'функцию,',\n",
       " 'которая',\n",
       " 'будет',\n",
       " 'будет',\n",
       " 'будет',\n",
       " 'будет',\n",
       " 'удалять',\n",
       " 'все',\n",
       " 'все',\n",
       " 'все',\n",
       " 'все',\n",
       " 'последовательные',\n",
       " 'повторы',\n",
       " 'слов',\n",
       " 'из',\n",
       " 'из',\n",
       " 'из',\n",
       " 'из',\n",
       " 'заданной',\n",
       " 'строки',\n",
       " 'строки',\n",
       " 'при',\n",
       " 'помощи',\n",
       " 'регулярных',\n",
       " 'выражений']"
      ]
     },
     "execution_count": 106,
     "metadata": {},
     "output_type": "execute_result"
    }
   ],
   "source": [
    "str1.split(' ')"
   ]
  },
  {
   "cell_type": "code",
   "execution_count": 109,
   "id": "dd3482cb",
   "metadata": {},
   "outputs": [
    {
     "data": {
      "text/plain": [
       "27"
      ]
     },
     "execution_count": 109,
     "metadata": {},
     "output_type": "execute_result"
    }
   ],
   "source": [
    "len(str1.split(' '))"
   ]
  },
  {
   "cell_type": "code",
   "execution_count": 119,
   "id": "09b34d8a",
   "metadata": {},
   "outputs": [
    {
     "name": "stdout",
     "output_type": "stream",
     "text": [
      "0\n",
      "1\n",
      "0\n",
      "0\n",
      "1\n",
      "1\n",
      "1\n",
      "0\n",
      "0\n",
      "1\n",
      "1\n",
      "1\n",
      "0\n",
      "0\n",
      "0\n",
      "0\n",
      "1\n",
      "1\n",
      "1\n",
      "0\n",
      "0\n",
      "1\n",
      "0\n",
      "0\n",
      "0\n",
      "0\n"
     ]
    }
   ],
   "source": [
    "splitted_str = str1.split(' ')\n",
    "re_str = re.findall('\\w+', str1)\n",
    "for i in range(0, len(splitted_str)-1):\n",
    "    c1 = 0\n",
    "    if re_str[i] == re_str[i+1]:\n",
    "        c1 += 1\n",
    "    print(c1)"
   ]
  },
  {
   "cell_type": "code",
   "execution_count": 117,
   "id": "2858d6ea",
   "metadata": {},
   "outputs": [
    {
     "ename": "NameError",
     "evalue": "name 'c1' is not defined",
     "output_type": "error",
     "traceback": [
      "\u001b[0;31m---------------------------------------------------------------------------\u001b[0m",
      "\u001b[0;31mNameError\u001b[0m                                 Traceback (most recent call last)",
      "Input \u001b[0;32mIn [117]\u001b[0m, in \u001b[0;36m<cell line: 1>\u001b[0;34m()\u001b[0m\n\u001b[0;32m----> 1\u001b[0m \u001b[38;5;28mprint\u001b[39m(\u001b[43mc1\u001b[49m)\n",
      "\u001b[0;31mNameError\u001b[0m: name 'c1' is not defined"
     ]
    }
   ],
   "source": [
    "print(c1)"
   ]
  },
  {
   "cell_type": "code",
   "execution_count": 118,
   "id": "72e26de5",
   "metadata": {},
   "outputs": [
    {
     "data": {
      "text/plain": [
       "range(27, 26)"
      ]
     },
     "execution_count": 118,
     "metadata": {},
     "output_type": "execute_result"
    }
   ],
   "source": [
    "range(len(splitted_str), len(splitted_str)-1)"
   ]
  },
  {
   "cell_type": "code",
   "execution_count": null,
   "id": "7fc9bfc5",
   "metadata": {},
   "outputs": [],
   "source": []
  }
 ],
 "metadata": {
  "kernelspec": {
   "display_name": "Python 3 (ipykernel)",
   "language": "python",
   "name": "python3"
  },
  "language_info": {
   "codemirror_mode": {
    "name": "ipython",
    "version": 3
   },
   "file_extension": ".py",
   "mimetype": "text/x-python",
   "name": "python",
   "nbconvert_exporter": "python",
   "pygments_lexer": "ipython3",
   "version": "3.9.12"
  }
 },
 "nbformat": 4,
 "nbformat_minor": 5
}
